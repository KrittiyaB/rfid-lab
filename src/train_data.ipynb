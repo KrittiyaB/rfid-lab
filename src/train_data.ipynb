{
 "cells": [
  {
   "cell_type": "code",
   "execution_count": 48,
   "metadata": {
    "collapsed": true
   },
   "outputs": [
    {
     "name": "stdout",
     "output_type": "stream",
     "text": [
      "   DISTANCE  DETECT  RSSI  FREQUENCY\n",
      "0        10       1   234   10761485\n",
      "1        20       1   214   16529165\n",
      "2        30       1   178   11287565\n",
      "3        40       1   146    5519885\n",
      "4        50       1   128   10761485\n"
     ]
    }
   ],
   "source": [
    "import pandas as pd\n",
    "from sklearn import metrics\n",
    "from sklearn.linear_model import LinearRegression\n",
    "from sklearn.model_selection import train_test_split\n",
    "from sklearn.preprocessing import PolynomialFeatures\n",
    "\n",
    "df = pd.read_csv('../data/RFID_DATA_SET.csv')\n",
    "df.fillna(0)\n",
    "\n",
    "print(df.head(5))\n",
    "\n",
    "data = df\n",
    "X = data.drop('RSSI', axis=1)\n",
    "X = X.iloc[0::].values\n",
    "y = data['RSSI'].values"
   ]
  },
  {
   "cell_type": "code",
   "execution_count": 49,
   "outputs": [],
   "source": [
    "X_train, X_test, y_train, y_test = train_test_split(X, y, test_size=0.33, random_state=66)"
   ],
   "metadata": {
    "collapsed": false,
    "pycharm": {
     "name": "#%%\n"
    }
   }
  },
  {
   "cell_type": "code",
   "execution_count": 50,
   "outputs": [
    {
     "data": {
      "text/plain": "PolynomialFeatures()"
     },
     "execution_count": 50,
     "metadata": {},
     "output_type": "execute_result"
    }
   ],
   "source": [
    "poly = PolynomialFeatures(degree=2)\n",
    "x_poly = poly.fit_transform(X_train)\n",
    "poly.fit(X_train, y_train)"
   ],
   "metadata": {
    "collapsed": false,
    "pycharm": {
     "name": "#%%\n"
    }
   }
  },
  {
   "cell_type": "code",
   "execution_count": 51,
   "outputs": [],
   "source": [
    "lin = LinearRegression()\n",
    "lin.fit(x_poly, y_train)\n",
    "y_pred = lin.predict(poly.fit_transform(X_test))"
   ],
   "metadata": {
    "collapsed": false,
    "pycharm": {
     "name": "#%%\n"
    }
   }
  },
  {
   "cell_type": "code",
   "execution_count": 52,
   "outputs": [
    {
     "name": "stdout",
     "output_type": "stream",
     "text": [
      "[0.77728483 0.76234104 0.73771737 0.72712503 0.74720293 0.74363815\n",
      " 0.76988616 0.75522387 0.67134763 0.73747462]\n"
     ]
    }
   ],
   "source": [
    "from sklearn.model_selection import cross_val_score\n",
    "\n",
    "scores = cross_val_score(lin, X, y, cv=10, scoring='r2')\n",
    "print(scores)"
   ],
   "metadata": {
    "collapsed": false,
    "pycharm": {
     "name": "#%%\n"
    }
   }
  },
  {
   "cell_type": "code",
   "execution_count": 53,
   "outputs": [
    {
     "name": "stdout",
     "output_type": "stream",
     "text": [
      "Means Absolute Error\n",
      "20.4876186876454\n",
      "Means Square Error\n",
      "990.3834217588297\n",
      "All R2 Scores\n",
      "[0.77728483 0.76234104 0.73771737 0.72712503 0.74720293 0.74363815\n",
      " 0.76988616 0.75522387 0.67134763 0.73747462]\n",
      "Mean R2 Score\n",
      "0.7429241631322174\n"
     ]
    }
   ],
   "source": [
    "print(\"Means Absolute Error\")\n",
    "print(metrics.mean_absolute_error(y_test, y_pred))\n",
    "print(\"Means Square Error\")\n",
    "print(metrics.mean_squared_error(y_test, y_pred))\n",
    "print(\"All R2 Scores\")\n",
    "print(scores)\n",
    "print(\"Mean R2 Score\")\n",
    "print(scores.mean())\n"
   ],
   "metadata": {
    "collapsed": false,
    "pycharm": {
     "name": "#%%\n"
    }
   }
  }
 ],
 "metadata": {
  "kernelspec": {
   "display_name": "Python 3",
   "language": "python",
   "name": "python3"
  },
  "language_info": {
   "codemirror_mode": {
    "name": "ipython",
    "version": 2
   },
   "file_extension": ".py",
   "mimetype": "text/x-python",
   "name": "python",
   "nbconvert_exporter": "python",
   "pygments_lexer": "ipython2",
   "version": "2.7.6"
  }
 },
 "nbformat": 4,
 "nbformat_minor": 0
}