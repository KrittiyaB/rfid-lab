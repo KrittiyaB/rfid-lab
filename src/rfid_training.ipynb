{
 "cells": [
  {
   "cell_type": "code",
   "execution_count": 7,
   "metadata": {
    "collapsed": true,
    "pycharm": {
     "name": "#%%\n"
    }
   },
   "outputs": [
    {
     "name": "stdout",
     "output_type": "stream",
     "text": [
      "      DISTANCE  DETECT  RSSI_DEC  FREQUENCY                        ID  CYCLE  \\\n",
      "0           10       1       234   10761485  e20051397201021118904d81      1   \n",
      "1           20       1       214   16529165  e20051397201021118904d81      1   \n",
      "2           30       1       178   11287565  e20051397201021118904d81      1   \n",
      "3           40       1       146    5519885  e20051397201021118904d81      1   \n",
      "4           50       1       128   10761485  e20051397201021118904d81      1   \n",
      "...        ...     ...       ...        ...                       ...    ...   \n",
      "1995       160       0         0          0  e20051397201021218904d7d      5   \n",
      "1996       170       0         0          0  e20051397201021218904d7d      5   \n",
      "1997       180       0         0          0  e20051397201021218904d7d      5   \n",
      "1998       190       0         0          0  e20051397201021218904d7d      5   \n",
      "1999       200       0         0          0  e20051397201021218904d7d      5   \n",
      "\n",
      "       N  READ_RATE  \n",
      "0      1        1.0  \n",
      "1      1        1.0  \n",
      "2      1        1.0  \n",
      "3      1        1.0  \n",
      "4      1        1.0  \n",
      "...   ..        ...  \n",
      "1995  10        0.0  \n",
      "1996  10        0.0  \n",
      "1997  10        0.0  \n",
      "1998  10        0.0  \n",
      "1999  10        0.0  \n",
      "\n",
      "[2000 rows x 8 columns]\n",
      "      DISTANCE  DETECT  RSSI_DEC  FREQUENCY  ID  CYCLE   N  READ_RATE\n",
      "0           10       1       234   10761485   8      1   1        1.0\n",
      "1           20       1       214   16529165   8      1   1        1.0\n",
      "2           30       1       178   11287565   8      1   1        1.0\n",
      "3           40       1       146    5519885   8      1   1        1.0\n",
      "4           50       1       128   10761485   8      1   1        1.0\n",
      "...        ...     ...       ...        ...  ..    ...  ..        ...\n",
      "1995       160       0         0          0  11      5  10        0.0\n",
      "1996       170       0         0          0  11      5  10        0.0\n",
      "1997       180       0         0          0  11      5  10        0.0\n",
      "1998       190       0         0          0  11      5  10        0.0\n",
      "1999       200       0         0          0  11      5  10        0.0\n",
      "\n",
      "[2000 rows x 8 columns]\n"
     ]
    }
   ],
   "source": [
    "import numpy as np\n",
    "import pandas as pd\n",
    "from sklearn import metrics\n",
    "from sklearn.linear_model import LinearRegression\n",
    "from sklearn.metrics import r2_score\n",
    "from sklearn.model_selection import train_test_split\n",
    "import matplotlib.pyplot as plt\n",
    "from sklearn.preprocessing import PolynomialFeatures, LabelEncoder\n",
    "\n",
    "df = pd.read_csv('../data/RFID_DATA_SET.csv')\n",
    "df.fillna(0)\n",
    "print(df)\n",
    "\n",
    "# normalize data\n",
    "ID = df['ID'].values\n",
    "le = LabelEncoder()\n",
    "id_encoded = le.fit_transform(np.ravel(ID))    # warn\n",
    "df['ID'] = id_encoded\n",
    "print(df)"
   ]
  },
  {
   "cell_type": "code",
   "execution_count": 8,
   "outputs": [
    {
     "data": {
      "text/plain": "<matplotlib.collections.PathCollection at 0x7f82c097bbb0>"
     },
     "execution_count": 8,
     "metadata": {},
     "output_type": "execute_result"
    },
    {
     "data": {
      "text/plain": "<Figure size 432x288 with 1 Axes>",
      "image/png": "[encoded data removed]"
     },
     "metadata": {
      "needs_background": "light"
     },
     "output_type": "display_data"
    }
   ],
   "source": [
    "dataset = df\n",
    "\n",
    "X = dataset['DISTANCE'].to_frame()\n",
    "y = dataset['READ_RATE'].values\n",
    "\n",
    "X_train, X_test, y_train, y_test = train_test_split(X, y, test_size=0.2, random_state=0)\n",
    "poly = PolynomialFeatures(degree=2)\n",
    "x_poly = poly.fit_transform(X_train)\n",
    "poly.fit(X_train, y_train)\n",
    "\n",
    "lin = LinearRegression()\n",
    "lin.fit(x_poly, y_train)\n",
    "\n",
    "plt.scatter(X_test, y_test, color='red')"
   ],
   "metadata": {
    "collapsed": false,
    "pycharm": {
     "name": "#%%\n"
    }
   }
  }
 ],
 "metadata": {
  "kernelspec": {
   "display_name": "Python 3",
   "language": "python",
   "name": "python3"
  },
  "language_info": {
   "codemirror_mode": {
    "name": "ipython",
    "version": 2
   },
   "file_extension": ".py",
   "mimetype": "text/x-python",
   "name": "python",
   "nbconvert_exporter": "python",
   "pygments_lexer": "ipython2",
   "version": "2.7.6"
  }
 },
 "nbformat": 4,
 "nbformat_minor": 0
}