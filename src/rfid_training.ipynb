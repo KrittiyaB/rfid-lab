{
 "cells": [
  {
   "cell_type": "code",
   "execution_count": 117,
   "metadata": {
    "collapsed": true,
    "pycharm": {
     "name": "#%%\n"
    }
   },
   "outputs": [
    {
     "name": "stdout",
     "output_type": "stream",
     "text": [
      "      DISTANCE  DETECT  RSSI_DEC  FREQUENCY                        ID  CYCLE  \\\n",
      "0           10       1       234   10761485  e20051397201021118904d81      1   \n",
      "1           20       1       214   16529165  e20051397201021118904d81      1   \n",
      "2           30       1       178   11287565  e20051397201021118904d81      1   \n",
      "3           40       1       146    5519885  e20051397201021118904d81      1   \n",
      "4           50       1       128   10761485  e20051397201021118904d81      1   \n",
      "...        ...     ...       ...        ...                       ...    ...   \n",
      "1995       160       0         0          0  e20051397201021218904d7d      5   \n",
      "1996       170       0         0          0  e20051397201021218904d7d      5   \n",
      "1997       180       0         0          0  e20051397201021218904d7d      5   \n",
      "1998       190       0         0          0  e20051397201021218904d7d      5   \n",
      "1999       200       0         0          0  e20051397201021218904d7d      5   \n",
      "\n",
      "       N  READ_RATE  \n",
      "0      1        1.0  \n",
      "1      1        1.0  \n",
      "2      1        1.0  \n",
      "3      1        1.0  \n",
      "4      1        1.0  \n",
      "...   ..        ...  \n",
      "1995  10        0.0  \n",
      "1996  10        0.0  \n",
      "1997  10        0.0  \n",
      "1998  10        0.0  \n",
      "1999  10        0.0  \n",
      "\n",
      "[2000 rows x 8 columns]\n",
      "      DISTANCE  DETECT  RSSI_DEC  FREQUENCY  ID  CYCLE   N  READ_RATE\n",
      "0           10       1       234   10761485   8      1   1        1.0\n",
      "1           20       1       214   16529165   8      1   1        1.0\n",
      "2           30       1       178   11287565   8      1   1        1.0\n",
      "3           40       1       146    5519885   8      1   1        1.0\n",
      "4           50       1       128   10761485   8      1   1        1.0\n",
      "...        ...     ...       ...        ...  ..    ...  ..        ...\n",
      "1995       160       0         0          0  11      5  10        0.0\n",
      "1996       170       0         0          0  11      5  10        0.0\n",
      "1997       180       0         0          0  11      5  10        0.0\n",
      "1998       190       0         0          0  11      5  10        0.0\n",
      "1999       200       0         0          0  11      5  10        0.0\n",
      "\n",
      "[2000 rows x 8 columns]\n"
     ]
    }
   ],
   "source": [
    "import numpy as np\n",
    "import pandas as pd\n",
    "from sklearn import metrics\n",
    "from sklearn.linear_model import LinearRegression\n",
    "from sklearn.metrics import r2_score\n",
    "from sklearn.model_selection import train_test_split\n",
    "import matplotlib.pyplot as plt\n",
    "from sklearn.preprocessing import PolynomialFeatures, LabelEncoder\n",
    "\n",
    "df = pd.read_csv('../data/RFID_DATA_SET_v1.csv')\n",
    "df.fillna(0)\n",
    "print(df)\n",
    "\n",
    "# normalize data\n",
    "ID = df['ID'].values\n",
    "le = LabelEncoder()\n",
    "id_encoded = le.fit_transform(np.ravel(ID))    # warn\n",
    "df['ID'] = id_encoded\n",
    "print(df)"
   ]
  },
  {
   "cell_type": "code",
   "execution_count": 118,
   "outputs": [
    {
     "data": {
      "text/plain": "LinearRegression()"
     },
     "execution_count": 118,
     "metadata": {},
     "output_type": "execute_result"
    }
   ],
   "source": [
    "dataset = df\n",
    "\n",
    "X = dataset['DISTANCE'].to_frame()\n",
    "y = dataset['READ_RATE'].values\n",
    "\n",
    "X_train, X_test, y_train, y_test = train_test_split(X, y, test_size=0.2, random_state=0)\n",
    "poly = PolynomialFeatures(degree=6)\n",
    "x_poly = poly.fit_transform(X_train)\n",
    "poly.fit(X_train, y_train)\n",
    "\n",
    "lin = LinearRegression()\n",
    "lin.fit(x_poly, y_train)"
   ],
   "metadata": {
    "collapsed": false,
    "pycharm": {
     "name": "#%%\n"
    }
   }
  },
  {
   "cell_type": "code",
   "execution_count": 119,
   "outputs": [
    {
     "name": "stdout",
     "output_type": "stream",
     "text": [
      "0.729368750873685\n"
     ]
    }
   ],
   "source": [
    "y_pred = lin.predict(poly.fit_transform(X_test))\n",
    "r2 = r2_score(y_test, y_pred)\n",
    "print(r2)"
   ],
   "metadata": {
    "collapsed": false,
    "pycharm": {
     "name": "#%%\n"
    }
   }
  },
  {
   "cell_type": "code",
   "execution_count": 120,
   "outputs": [
    {
     "data": {
      "text/plain": "<Figure size 432x288 with 1 Axes>",
      "image/png": "[encoded data removed]"
     },
     "metadata": {
      "needs_background": "light"
     },
     "output_type": "display_data"
    }
   ],
   "source": [
    "plt.title(\"RFID\")\n",
    "plt.xlabel(\"Distance\")\n",
    "plt.ylabel(\"Read Rate\")\n",
    "\n",
    "plt.scatter(X_test, y_test, color='red')\n",
    "plt.scatter(X_test, y_pred, color='blue')\n",
    "plt.grid()\n",
    "plt.show()"
   ],
   "metadata": {
    "collapsed": false,
    "pycharm": {
     "name": "#%%\n"
    }
   }
  },
  {
   "cell_type": "code",
   "execution_count": 121,
   "outputs": [
    {
     "name": "stdout",
     "output_type": "stream",
     "text": [
      "[234 214 178 ...   0   0   0]\n",
      "0.8410446679372838\n"
     ]
    },
    {
     "data": {
      "text/plain": "<Figure size 432x288 with 1 Axes>",
      "image/png": "[encoded data removed]"
     },
     "metadata": {
      "needs_background": "light"
     },
     "output_type": "display_data"
    }
   ],
   "source": [
    "X2 = dataset['DISTANCE'].to_frame()\n",
    "y2 = dataset['RSSI_DEC'].values\n",
    "print(y2)\n",
    "X_train2, X_test2, y_train2, y_test2 = train_test_split(X2, y2, test_size=0.2, random_state=0)\n",
    "poly2 = PolynomialFeatures(degree=6)\n",
    "x_poly2 = poly2.fit_transform(X_train2)\n",
    "poly2.fit(X_train2, y_train2)\n",
    "\n",
    "lin2 = LinearRegression()\n",
    "lin2.fit(x_poly2, y_train2)\n",
    "y_pred2 = lin2.predict(poly2.fit_transform(X_test2))\n",
    "r22 = r2_score(y_test2, y_pred2)\n",
    "print(r22)\n",
    "plt.title(\"RFID\")\n",
    "plt.xlabel(\"Distance\")\n",
    "plt.ylabel(\"RSSI\")\n",
    "\n",
    "plt.scatter(X_test2, y_test2, color='orange')\n",
    "plt.scatter(X_test2, y_pred2, color='green')\n",
    "plt.grid()\n",
    "plt.show()"
   ],
   "metadata": {
    "collapsed": false,
    "pycharm": {
     "name": "#%%\n"
    }
   }
  }
 ],
 "metadata": {
  "kernelspec": {
   "display_name": "Python 3",
   "language": "python",
   "name": "python3"
  },
  "language_info": {
   "codemirror_mode": {
    "name": "ipython",
    "version": 2
   },
   "file_extension": ".py",
   "mimetype": "text/x-python",
   "name": "python",
   "nbconvert_exporter": "python",
   "pygments_lexer": "ipython2",
   "version": "2.7.6"
  }
 },
 "nbformat": 4,
 "nbformat_minor": 0
}