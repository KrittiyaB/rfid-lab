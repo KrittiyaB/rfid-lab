{
 "cells": [
  {
   "cell_type": "code",
   "execution_count": 68,
   "metadata": {
    "collapsed": true
   },
   "outputs": [],
   "source": [
    "import pandas as pd\n",
    "import matplotlib.pyplot as plt\n",
    "from sklearn.linear_model import LinearRegression\n",
    "from sklearn.preprocessing import PolynomialFeatures\n",
    "from sklearn.model_selection import train_test_split\n",
    "from sklearn.metrics import r2_score\n",
    "import numpy as np\n",
    "\n",
    "df_no_temp = pd.read_csv('../data/RFID_DATA_SET_NOTEMP_CLEANED.csv')\n",
    "df_temp = pd.read_csv('../data/RFID_DATA_SET_TEMP_CLEANED.csv')"
   ]
  },
  {
   "cell_type": "code",
   "execution_count": 69,
   "outputs": [
    {
     "name": "stdout",
     "output_type": "stream",
     "text": [
      "      TagNo  Distance  Temperature  RealTemp  RSSI      FREQ H_RSSI  H_FREQ  \\\n",
      "0         1        10           33      33.7   238  16529165     ee  fc370d   \n",
      "1         1        10           33      33.7   237  11287565     ed  ac3c0d   \n",
      "2         1        10           33      33.7   236   5519885     ec  543a0d   \n",
      "3         1        10           33      33.7   237  10761485     ed  a4350d   \n",
      "4         1        10           33      33.7   252  16529165     fc  fc370d   \n",
      "...     ...       ...          ...       ...   ...       ...    ...     ...   \n",
      "9995     10       200           21      20.2     0         0      0       0   \n",
      "9996     10       200           21      20.2     0         0      0       0   \n",
      "9997     10       200           21      20.2     0         0      0       0   \n",
      "9998     10       200           21      20.2     0         0      0       0   \n",
      "9999     10       200           21      20.2     0         0      0       0   \n",
      "\n",
      "                            ID                                          Data  \\\n",
      "0     e20051397201021118904d81  441601eefc370d0e3000e20051397201021118904d81   \n",
      "1     e20051397201021118904d81  441601edac3c0d0e3000e20051397201021118904d81   \n",
      "2     e20051397201021118904d81  441601ec543a0d0e3000e20051397201021118904d81   \n",
      "3     e20051397201021118904d81  441601eda4350d0e3000e20051397201021118904d81   \n",
      "4     e20051397201021118904d81  441601fcfc370d0e3000e20051397201021118904d81   \n",
      "...                        ...                                           ...   \n",
      "9995                       NaN                                    4405000000   \n",
      "9996                       NaN                                    4405000000   \n",
      "9997                       NaN                                    4405000000   \n",
      "9998                       NaN                                    4405000000   \n",
      "9999                       NaN                                    4405000000   \n",
      "\n",
      "      Detect  \n",
      "0          1  \n",
      "1          1  \n",
      "2          1  \n",
      "3          1  \n",
      "4          1  \n",
      "...      ...  \n",
      "9995       0  \n",
      "9996       0  \n",
      "9997       0  \n",
      "9998       0  \n",
      "9999       0  \n",
      "\n",
      "[10000 rows x 11 columns]\n",
      "      TagNo  Distance  Temperature  RealTemp  RSSI      FREQ H_RSSI  H_FREQ  \\\n",
      "0         1        10            0         0   234  10761485     ea  a4350d   \n",
      "1         1        20            0         0   214  16529165     d6  fc370d   \n",
      "2         1        30            0         0   178  11287565     b2  ac3c0d   \n",
      "3         1        40            0         0   146   5519885     92  543a0d   \n",
      "4         1        50            0         0   128  10761485     80  a4350d   \n",
      "...     ...       ...          ...       ...   ...       ...    ...     ...   \n",
      "1995     10       160            0         0     0         0      0       0   \n",
      "1996     10       170            0         0     0         0      0       0   \n",
      "1997     10       180            0         0     0         0      0       0   \n",
      "1998     10       190            0         0     0         0      0       0   \n",
      "1999     10       200            0         0     0         0      0       0   \n",
      "\n",
      "                            ID                                          Data  \\\n",
      "0     e20051397201021118904d81  441601eaa4350d0e3000e20051397201021118904d81   \n",
      "1     e20051397201021118904d81  441601d6fc370d0e3000e20051397201021118904d81   \n",
      "2     e20051397201021118904d81  441601b2ac3c0d0e3000e20051397201021118904d81   \n",
      "3     e20051397201021118904d81  44160192543a0d0e3000e20051397201021118904d81   \n",
      "4     e20051397201021118904d81  44160180a4350d0e3000e20051397201021118904d81   \n",
      "...                        ...                                           ...   \n",
      "1995                       NaN                                    4405000000   \n",
      "1996                       NaN                                    4405000000   \n",
      "1997                       NaN                                    4405000000   \n",
      "1998                       NaN                                    4405000000   \n",
      "1999                       NaN                                    4405000000   \n",
      "\n",
      "      Detect  \n",
      "0          1  \n",
      "1          1  \n",
      "2          1  \n",
      "3          1  \n",
      "4          1  \n",
      "...      ...  \n",
      "1995       0  \n",
      "1996       0  \n",
      "1997       0  \n",
      "1998       0  \n",
      "1999       0  \n",
      "\n",
      "[2000 rows x 11 columns]\n"
     ]
    }
   ],
   "source": [
    "print(df_temp)\n",
    "print(df_no_temp)"
   ],
   "metadata": {
    "collapsed": false,
    "pycharm": {
     "name": "#%%\n"
    }
   }
  },
  {
   "cell_type": "code",
   "execution_count": 70,
   "outputs": [
    {
     "name": "stdout",
     "output_type": "stream",
     "text": [
      "6000\n"
     ]
    },
    {
     "data": {
      "text/plain": "    TagNo  Distance  Temperature  RealTemp  RSSI      FREQ H_RSSI  H_FREQ  \\\n0       1        10            0       0.0   234  10761485     ea  a4350d   \n1       1        20            0       0.0   214  16529165     d6  fc370d   \n2       1        30            0       0.0   178  11287565     b2  ac3c0d   \n3       1        40            0       0.0   146   5519885     92  543a0d   \n4       1        50            0       0.0   128  10761485     80  a4350d   \n..    ...       ...          ...       ...   ...       ...    ...     ...   \n95      1       160            0       0.0     0         0      0       0   \n96      1       170            0       0.0    85   5519885     55  543a0d   \n97      1       180            0       0.0    37  10761485     25  a4350d   \n98      1       190            0       0.0     0         0      0       0   \n99      1       200            0       0.0     0         0      0       0   \n\n                          ID                                          Data  \\\n0   e20051397201021118904d81  441601eaa4350d0e3000e20051397201021118904d81   \n1   e20051397201021118904d81  441601d6fc370d0e3000e20051397201021118904d81   \n2   e20051397201021118904d81  441601b2ac3c0d0e3000e20051397201021118904d81   \n3   e20051397201021118904d81  44160192543a0d0e3000e20051397201021118904d81   \n4   e20051397201021118904d81  44160180a4350d0e3000e20051397201021118904d81   \n..                       ...                                           ...   \n95                       NaN                                    4405000000   \n96  e20051397201021118904d81  44160155543a0d0e3000e20051397201021118904d81   \n97  e20051397201021118904d81  44160125a4350d0e3000e20051397201021118904d81   \n98                       NaN                                    4405000000   \n99                       NaN                                    4405000000   \n\n    Detect  \n0        1  \n1        1  \n2        1  \n3        1  \n4        1  \n..     ...  \n95       0  \n96       1  \n97       1  \n98       0  \n99       0  \n\n[100 rows x 11 columns]",
      "text/html": "<div>\n<style scoped>\n    .dataframe tbody tr th:only-of-type {\n        vertical-align: middle;\n    }\n\n    .dataframe tbody tr th {\n        vertical-align: top;\n    }\n\n    .dataframe thead th {\n        text-align: right;\n    }\n</style>\n<table border=\"1\" class=\"dataframe\">\n  <thead>\n    <tr style=\"text-align: right;\">\n      <th></th>\n      <th>TagNo</th>\n      <th>Distance</th>\n      <th>Temperature</th>\n      <th>RealTemp</th>\n      <th>RSSI</th>\n      <th>FREQ</th>\n      <th>H_RSSI</th>\n      <th>H_FREQ</th>\n      <th>ID</th>\n      <th>Data</th>\n      <th>Detect</th>\n    </tr>\n  </thead>\n  <tbody>\n    <tr>\n      <th>0</th>\n      <td>1</td>\n      <td>10</td>\n      <td>0</td>\n      <td>0.0</td>\n      <td>234</td>\n      <td>10761485</td>\n      <td>ea</td>\n      <td>a4350d</td>\n      <td>e20051397201021118904d81</td>\n      <td>441601eaa4350d0e3000e20051397201021118904d81</td>\n      <td>1</td>\n    </tr>\n    <tr>\n      <th>1</th>\n      <td>1</td>\n      <td>20</td>\n      <td>0</td>\n      <td>0.0</td>\n      <td>214</td>\n      <td>16529165</td>\n      <td>d6</td>\n      <td>fc370d</td>\n      <td>e20051397201021118904d81</td>\n      <td>441601d6fc370d0e3000e20051397201021118904d81</td>\n      <td>1</td>\n    </tr>\n    <tr>\n      <th>2</th>\n      <td>1</td>\n      <td>30</td>\n      <td>0</td>\n      <td>0.0</td>\n      <td>178</td>\n      <td>11287565</td>\n      <td>b2</td>\n      <td>ac3c0d</td>\n      <td>e20051397201021118904d81</td>\n      <td>441601b2ac3c0d0e3000e20051397201021118904d81</td>\n      <td>1</td>\n    </tr>\n    <tr>\n      <th>3</th>\n      <td>1</td>\n      <td>40</td>\n      <td>0</td>\n      <td>0.0</td>\n      <td>146</td>\n      <td>5519885</td>\n      <td>92</td>\n      <td>543a0d</td>\n      <td>e20051397201021118904d81</td>\n      <td>44160192543a0d0e3000e20051397201021118904d81</td>\n      <td>1</td>\n    </tr>\n    <tr>\n      <th>4</th>\n      <td>1</td>\n      <td>50</td>\n      <td>0</td>\n      <td>0.0</td>\n      <td>128</td>\n      <td>10761485</td>\n      <td>80</td>\n      <td>a4350d</td>\n      <td>e20051397201021118904d81</td>\n      <td>44160180a4350d0e3000e20051397201021118904d81</td>\n      <td>1</td>\n    </tr>\n    <tr>\n      <th>...</th>\n      <td>...</td>\n      <td>...</td>\n      <td>...</td>\n      <td>...</td>\n      <td>...</td>\n      <td>...</td>\n      <td>...</td>\n      <td>...</td>\n      <td>...</td>\n      <td>...</td>\n      <td>...</td>\n    </tr>\n    <tr>\n      <th>95</th>\n      <td>1</td>\n      <td>160</td>\n      <td>0</td>\n      <td>0.0</td>\n      <td>0</td>\n      <td>0</td>\n      <td>0</td>\n      <td>0</td>\n      <td>NaN</td>\n      <td>4405000000</td>\n      <td>0</td>\n    </tr>\n    <tr>\n      <th>96</th>\n      <td>1</td>\n      <td>170</td>\n      <td>0</td>\n      <td>0.0</td>\n      <td>85</td>\n      <td>5519885</td>\n      <td>55</td>\n      <td>543a0d</td>\n      <td>e20051397201021118904d81</td>\n      <td>44160155543a0d0e3000e20051397201021118904d81</td>\n      <td>1</td>\n    </tr>\n    <tr>\n      <th>97</th>\n      <td>1</td>\n      <td>180</td>\n      <td>0</td>\n      <td>0.0</td>\n      <td>37</td>\n      <td>10761485</td>\n      <td>25</td>\n      <td>a4350d</td>\n      <td>e20051397201021118904d81</td>\n      <td>44160125a4350d0e3000e20051397201021118904d81</td>\n      <td>1</td>\n    </tr>\n    <tr>\n      <th>98</th>\n      <td>1</td>\n      <td>190</td>\n      <td>0</td>\n      <td>0.0</td>\n      <td>0</td>\n      <td>0</td>\n      <td>0</td>\n      <td>0</td>\n      <td>NaN</td>\n      <td>4405000000</td>\n      <td>0</td>\n    </tr>\n    <tr>\n      <th>99</th>\n      <td>1</td>\n      <td>200</td>\n      <td>0</td>\n      <td>0.0</td>\n      <td>0</td>\n      <td>0</td>\n      <td>0</td>\n      <td>0</td>\n      <td>NaN</td>\n      <td>4405000000</td>\n      <td>0</td>\n    </tr>\n  </tbody>\n</table>\n<p>100 rows × 11 columns</p>\n</div>"
     },
     "execution_count": 70,
     "metadata": {},
     "output_type": "execute_result"
    }
   ],
   "source": [
    "df_temp_group = df_temp.groupby('Temperature')\n",
    "df_temp_29 = df_temp_group.get_group(29)\n",
    "df_temp_21 = df_temp_group.get_group(21)\n",
    "df_temp_33 = df_temp_group.get_group(33)\n",
    "df_temp_25 = df_temp_group.get_group(25)\n",
    "df_temp_37 = df_temp_group.get_group(37)\n",
    "\n",
    "new_df = pd.concat([df_no_temp,df_temp_29,df_temp_21])\n",
    "print(len(new_df))\n",
    "new_df.head(100)"
   ],
   "metadata": {
    "collapsed": false,
    "pycharm": {
     "name": "#%%\n"
    }
   }
  },
  {
   "cell_type": "code",
   "execution_count": 71,
   "outputs": [
    {
     "data": {
      "text/plain": "[221.44,\n 212.48,\n 194.14,\n 147.66,\n 114.98,\n 88.53,\n 78.85,\n 90.2,\n 87.28,\n 69.3,\n 54.78,\n 33.61,\n 10.3,\n 17.86,\n 8.68,\n 10.29,\n 2.49,\n 0.49,\n 0.8,\n 0.8]"
     },
     "execution_count": 71,
     "metadata": {},
     "output_type": "execute_result"
    }
   ],
   "source": [
    "from statistics import mean\n",
    "# average per distance\n",
    "df_no_temp2 = df_no_temp[['Distance','RSSI','Detect']]\n",
    "no_temp_dist_group = df_no_temp2.groupby('Distance')\n",
    "no_temp_dist10 = no_temp_dist_group.get_group(10)\n",
    "no_temp_dist20 = no_temp_dist_group.get_group(20)\n",
    "no_temp_dist30 = no_temp_dist_group.get_group(30)\n",
    "no_temp_dist40 = no_temp_dist_group.get_group(40)\n",
    "no_temp_dist50 = no_temp_dist_group.get_group(50)\n",
    "no_temp_dist60 = no_temp_dist_group.get_group(60)\n",
    "no_temp_dist70 = no_temp_dist_group.get_group(70)\n",
    "no_temp_dist80 = no_temp_dist_group.get_group(80)\n",
    "no_temp_dist90 = no_temp_dist_group.get_group(90)\n",
    "no_temp_dist100 = no_temp_dist_group.get_group(100)\n",
    "no_temp_dist110 = no_temp_dist_group.get_group(110)\n",
    "no_temp_dist120 = no_temp_dist_group.get_group(120)\n",
    "no_temp_dist130 = no_temp_dist_group.get_group(130)\n",
    "no_temp_dist140 = no_temp_dist_group.get_group(140)\n",
    "no_temp_dist150 = no_temp_dist_group.get_group(150)\n",
    "no_temp_dist160 = no_temp_dist_group.get_group(160)\n",
    "no_temp_dist170 = no_temp_dist_group.get_group(170)\n",
    "no_temp_dist180 = no_temp_dist_group.get_group(180)\n",
    "no_temp_dist190 = no_temp_dist_group.get_group(190)\n",
    "no_temp_dist200 = no_temp_dist_group.get_group(200)\n",
    "\n",
    "all_rssi_no_temp = [mean(no_temp_dist10['RSSI']),mean(no_temp_dist20['RSSI']),mean(no_temp_dist30['RSSI']),mean(no_temp_dist40['RSSI']),mean(no_temp_dist50['RSSI'])\n",
    "           ,mean(no_temp_dist60['RSSI']),mean(no_temp_dist70['RSSI']),mean(no_temp_dist80['RSSI']),mean(no_temp_dist90['RSSI']),mean(no_temp_dist100['RSSI'])\n",
    "           ,mean(no_temp_dist110['RSSI']),mean(no_temp_dist120['RSSI']),mean(no_temp_dist130['RSSI']),mean(no_temp_dist140['RSSI']),mean(no_temp_dist150['RSSI']),\n",
    "           mean(no_temp_dist160['RSSI']),mean(no_temp_dist170['RSSI']),mean(no_temp_dist180['RSSI']),mean(no_temp_dist190['RSSI']),mean(no_temp_dist200['RSSI'])]\n",
    "all_rssi_no_temp"
   ],
   "metadata": {
    "collapsed": false,
    "pycharm": {
     "name": "#%%\n"
    }
   }
  },
  {
   "cell_type": "code",
   "execution_count": 72,
   "outputs": [
    {
     "data": {
      "text/plain": "[213.078,\n 198.642,\n 193.536,\n 153.596,\n 134.514,\n 90.656,\n 87.74,\n 90.984,\n 99.038,\n 85.556,\n 69.218,\n 36.836,\n 27.894,\n 21.844,\n 18.75,\n 23.882,\n 10.476,\n 5.836,\n 1.762,\n 0.384]"
     },
     "execution_count": 72,
     "metadata": {},
     "output_type": "execute_result"
    }
   ],
   "source": [
    "temp_dist_group = df_temp.groupby('Distance')\n",
    "temp_dist10 = temp_dist_group.get_group(10)\n",
    "temp_dist20 = temp_dist_group.get_group(20)\n",
    "temp_dist30 = temp_dist_group.get_group(30)\n",
    "temp_dist40 = temp_dist_group.get_group(40)\n",
    "temp_dist50 = temp_dist_group.get_group(50)\n",
    "temp_dist60 = temp_dist_group.get_group(60)\n",
    "temp_dist70 = temp_dist_group.get_group(70)\n",
    "temp_dist80 = temp_dist_group.get_group(80)\n",
    "temp_dist90 = temp_dist_group.get_group(90)\n",
    "temp_dist100 = temp_dist_group.get_group(100)\n",
    "temp_dist110 = temp_dist_group.get_group(110)\n",
    "temp_dist120 = temp_dist_group.get_group(120)\n",
    "temp_dist130 = temp_dist_group.get_group(130)\n",
    "temp_dist140 = temp_dist_group.get_group(140)\n",
    "temp_dist150 = temp_dist_group.get_group(150)\n",
    "temp_dist160 = temp_dist_group.get_group(160)\n",
    "temp_dist170 = temp_dist_group.get_group(170)\n",
    "temp_dist180 = temp_dist_group.get_group(180)\n",
    "temp_dist190 = temp_dist_group.get_group(190)\n",
    "temp_dist200 = temp_dist_group.get_group(200)\n",
    "\n",
    "all_rssi_temp = [mean(temp_dist10['RSSI']),mean(temp_dist20['RSSI']),mean(temp_dist30['RSSI']),mean(temp_dist40['RSSI']),mean(temp_dist50['RSSI'])\n",
    "           ,mean(temp_dist60['RSSI']),mean(temp_dist70['RSSI']),mean(temp_dist80['RSSI']),mean(temp_dist90['RSSI']),mean(temp_dist100['RSSI'])\n",
    "           ,mean(temp_dist110['RSSI']),mean(temp_dist120['RSSI']),mean(temp_dist130['RSSI']),mean(temp_dist140['RSSI']),mean(temp_dist150['RSSI']),\n",
    "           mean(temp_dist160['RSSI']),mean(temp_dist170['RSSI']),mean(temp_dist180['RSSI']),mean(temp_dist190['RSSI']),mean(temp_dist200['RSSI'])]\n",
    "all_rssi_temp"
   ],
   "metadata": {
    "collapsed": false,
    "pycharm": {
     "name": "#%%\n"
    }
   }
  },
  {
   "cell_type": "code",
   "execution_count": 73,
   "outputs": [
    {
     "name": "stdout",
     "output_type": "stream",
     "text": [
      "R2 NO = 0.7252119621638033\n"
     ]
    }
   ],
   "source": [
    "dataset = df_no_temp.sort_values(by=['Distance'])\n",
    "X = dataset['Distance'].to_frame()\n",
    "y = dataset['RSSI'].values\n",
    "X_train, X_test, y_train, y_test = train_test_split(X, y, test_size=0.2, random_state=0)\n",
    "\n",
    "poly = PolynomialFeatures(degree=1)\n",
    "x_poly = poly.fit_transform(X_train)\n",
    "poly.fit(X_train, y_train)\n",
    "model = LinearRegression()\n",
    "model.fit(x_poly, y_train)\n",
    "\n",
    "# plt.scatter(X_test, y_test, color='purple')\n",
    "y_pred = model.predict(poly.fit_transform(X_test))\n",
    "r2 = r2_score(y_test, y_pred)\n",
    "print(\"R2 NO = \"+str(r2))"
   ],
   "metadata": {
    "collapsed": false,
    "pycharm": {
     "name": "#%%\n"
    }
   }
  },
  {
   "cell_type": "code",
   "execution_count": 74,
   "outputs": [
    {
     "name": "stdout",
     "output_type": "stream",
     "text": [
      "R2 29 = 0.7780210465672615\n"
     ]
    }
   ],
   "source": [
    "dataset = df_temp_29.sort_values(by=['Distance'])\n",
    "X29 = dataset['Distance'].to_frame()\n",
    "y29 = dataset['RSSI'].values\n",
    "X_train29, X_test29, y_train29, y_test29 = train_test_split(X29, y29, test_size=0.2, random_state=0)\n",
    "\n",
    "poly29 = PolynomialFeatures(degree=1)\n",
    "x_poly29 = poly29.fit_transform(X_train29)\n",
    "poly29.fit(X_train29, y_train29)\n",
    "model29 = LinearRegression()\n",
    "model29.fit(x_poly29, y_train29)\n",
    "\n",
    "# plt.scatter(X_test29, y_test29, color='red')\n",
    "y_pred29 = model29.predict(poly.fit_transform(X_test29))\n",
    "r2_29 = r2_score(y_test29, y_pred29)\n",
    "print(\"R2 29 = \"+str(r2_29))"
   ],
   "metadata": {
    "collapsed": false,
    "pycharm": {
     "name": "#%%\n"
    }
   }
  },
  {
   "cell_type": "code",
   "execution_count": 75,
   "outputs": [
    {
     "name": "stdout",
     "output_type": "stream",
     "text": [
      "R2 21 = 0.49692822647123125\n"
     ]
    }
   ],
   "source": [
    "dataset = df_temp_21.sort_values(by=['Distance'])\n",
    "X21 = dataset['Distance'].to_frame()\n",
    "y21 = dataset['RSSI'].values\n",
    "X_train21, X_test21, y_train21, y_test21 = train_test_split(X21, y21, test_size=0.2, random_state=0)\n",
    "\n",
    "poly21 = PolynomialFeatures(degree=1)\n",
    "x_poly21 = poly21.fit_transform(X_train21)\n",
    "poly21.fit(X_train21, y_train21)\n",
    "model21 = LinearRegression()\n",
    "model21.fit(x_poly21, y_train21)\n",
    "\n",
    "# plt.scatter(X_test29, y_test29, color='red')\n",
    "y_pred21 = model21.predict(poly.fit_transform(X_test21))\n",
    "r2_21 = r2_score(y_test21, y_pred21)\n",
    "print(\"R2 21 = \"+str(r2_21))"
   ],
   "metadata": {
    "collapsed": false,
    "pycharm": {
     "name": "#%%\n"
    }
   }
  },
  {
   "cell_type": "code",
   "execution_count": 76,
   "outputs": [
    {
     "name": "stdout",
     "output_type": "stream",
     "text": [
      "R2 33 = 0.7219476234137303\n"
     ]
    }
   ],
   "source": [
    "dataset = df_temp_33.sort_values(by=['Distance'])\n",
    "X33 = dataset['Distance'].to_frame()\n",
    "y33 = dataset['RSSI'].values\n",
    "X_train33, X_test33, y_train33, y_test33 = train_test_split(X33, y33, test_size=0.2, random_state=0)\n",
    "\n",
    "poly33 = PolynomialFeatures(degree=1)\n",
    "x_poly33 = poly33.fit_transform(X_train33)\n",
    "poly33.fit(X_train33, y_train33)\n",
    "model33 = LinearRegression()\n",
    "model33.fit(x_poly33, y_train33)\n",
    "\n",
    "# plt.scatter(X_test29, y_test29, color='red')\n",
    "y_pred33 = model33.predict(poly.fit_transform(X_test33))\n",
    "r2_33 = r2_score(y_test33, y_pred33)\n",
    "print(\"R2 33 = \"+str(r2_33))"
   ],
   "metadata": {
    "collapsed": false,
    "pycharm": {
     "name": "#%%\n"
    }
   }
  },
  {
   "cell_type": "code",
   "execution_count": 77,
   "outputs": [
    {
     "name": "stdout",
     "output_type": "stream",
     "text": [
      "R2 25 = 0.5980960500821765\n"
     ]
    }
   ],
   "source": [
    "dataset = df_temp_25.sort_values(by=['Distance'])\n",
    "X25 = dataset['Distance'].to_frame()\n",
    "y25 = dataset['RSSI'].values\n",
    "X_train25, X_test25, y_train25, y_test25 = train_test_split(X25, y25, test_size=0.2, random_state=0)\n",
    "\n",
    "poly25 = PolynomialFeatures(degree=1)\n",
    "x_poly25 = poly25.fit_transform(X_train25)\n",
    "poly25.fit(X_train25, y_train25)\n",
    "model25 = LinearRegression()\n",
    "model25.fit(x_poly25, y_train25)\n",
    "\n",
    "# plt.scatter(X_test29, y_test29, color='red')\n",
    "y_pred25 = model25.predict(poly.fit_transform(X_test25))\n",
    "r2_25 = r2_score(y_test25, y_pred25)\n",
    "print(\"R2 25 = \"+str(r2_25))"
   ],
   "metadata": {
    "collapsed": false,
    "pycharm": {
     "name": "#%%\n"
    }
   }
  },
  {
   "cell_type": "code",
   "execution_count": 78,
   "outputs": [
    {
     "name": "stdout",
     "output_type": "stream",
     "text": [
      "R2 37 = 0.7310710811161056\n"
     ]
    }
   ],
   "source": [
    "dataset = df_temp_37.sort_values(by=['Distance'])\n",
    "X37 = dataset['Distance'].to_frame()\n",
    "y37 = dataset['RSSI'].values\n",
    "X_train37, X_test37, y_train37, y_test37 = train_test_split(X37, y37, test_size=0.2, random_state=0)\n",
    "\n",
    "poly37 = PolynomialFeatures(degree=1)\n",
    "x_poly37 = poly37.fit_transform(X_train37)\n",
    "poly37.fit(X_train37, y_train37)\n",
    "model37 = LinearRegression()\n",
    "model37.fit(x_poly37, y_train37)\n",
    "\n",
    "# plt.scatter(X_test29, y_test29, color='red')\n",
    "y_pred37 = model37.predict(poly.fit_transform(X_test37))\n",
    "r2_37 = r2_score(y_test37, y_pred37)\n",
    "print(\"R2 37 = \"+str(r2_37))"
   ],
   "metadata": {
    "collapsed": false,
    "pycharm": {
     "name": "#%%\n"
    }
   }
  },
  {
   "cell_type": "code",
   "execution_count": 79,
   "outputs": [
    {
     "data": {
      "text/plain": "<Figure size 720x576 with 1 Axes>",
      "image/png": "[encoded data removed]"
     },
     "metadata": {
      "needs_background": "light"
     },
     "output_type": "display_data"
    }
   ],
   "source": [
    "plt.figure(figsize=(10,8))\n",
    "plt.plot(X_test, y_pred, label='No temperature', color='black',marker='o',linestyle='dashed', linewidth = 1, markerfacecolor='gray', markersize=7)\n",
    "plt.plot(X_test21, y_pred21, label='Temperature 21 ᵒC', color='crimson', linestyle='dashed', linewidth = 1, marker='^', markerfacecolor='pink', markersize=7)\n",
    "# plt.plot(X_test25, y_pred25, label='Temperature 25 ᵒC', color='indigo', linestyle='dashed', linewidth = 1, marker='d', markerfacecolor='plum', markersize=6)\n",
    "plt.plot(X_test29, y_pred29, label='Temperature 29 ᵒC', color='darkgreen',marker='X',linestyle='dashed', linewidth = 1, markerfacecolor='limegreen', markersize=7)\n",
    "# plt.plot(X_test33, y_pred33, label='Temperature 33 ᵒC', color='gold', linestyle='dashed', linewidth = 1, marker='p', markerfacecolor='lightyellow', markersize=6)\n",
    "# plt.plot(X_test37, y_pred37, label='Temperature 37 ᵒC', color='dodgerblue', linestyle='dashed', linewidth = 1, marker='s', markerfacecolor='lightblue', markersize=6)\n",
    "\n",
    "plt.legend()\n",
    "plt.xlabel('Distance(cm)')\n",
    "plt.ylabel('RSSI')\n",
    "# plt.title('Comparison of the RSSI estimation')\n",
    "# plt.figtext(.01, .04, \"No temperature: r2 = \"+str(r2))\n",
    "# plt.figtext(.01, .08, \"Temperature 29ᵒC: r2 = \"+str(r2_29))\n",
    "plt.savefig('../img/compare_polynomial.png', dpi=150)\n",
    "plt.show()"
   ],
   "metadata": {
    "collapsed": false,
    "pycharm": {
     "name": "#%%\n"
    }
   }
  }
 ],
 "metadata": {
  "kernelspec": {
   "display_name": "Python 3",
   "language": "python",
   "name": "python3"
  },
  "language_info": {
   "codemirror_mode": {
    "name": "ipython",
    "version": 2
   },
   "file_extension": ".py",
   "mimetype": "text/x-python",
   "name": "python",
   "nbconvert_exporter": "python",
   "pygments_lexer": "ipython2",
   "version": "2.7.6"
  }
 },
 "nbformat": 4,
 "nbformat_minor": 0
}