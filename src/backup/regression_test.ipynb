{
 "cells": [
  {
   "cell_type": "code",
   "execution_count": 90,
   "metadata": {
    "collapsed": true
   },
   "outputs": [],
   "source": [
    "import pandas as pd\n",
    "from sklearn import metrics\n",
    "from sklearn.linear_model import LinearRegression\n",
    "from sklearn.metrics import r2_score\n",
    "from sklearn.model_selection import train_test_split\n",
    "import matplotlib.pyplot as plt\n",
    "from sklearn.preprocessing import PolynomialFeatures\n",
    "\n",
    "\n",
    "df = pd.read_csv('../data/RFID_DATA_SET.csv')\n",
    "df.fillna(0)\n",
    "\n",
    "# print(df.head(5))\n",
    "\n",
    "data = df\n",
    "# X = data.drop('RSSI', axis=1)\n",
    "# X = X.iloc[0::].values\n",
    "X = data['DISTANCE'].to_frame()\n",
    "y = data['RSSI'].values\n",
    "# print(X[0])\n",
    "# print(y[0])"
   ]
  },
  {
   "cell_type": "code",
   "execution_count": 91,
   "outputs": [
    {
     "data": {
      "text/plain": "LinearRegression()"
     },
     "execution_count": 91,
     "metadata": {},
     "output_type": "execute_result"
    }
   ],
   "source": [
    "X_train, X_test, y_train, y_test = train_test_split(X, y, test_size=0.2, random_state=0)\n",
    "\n",
    "poly = PolynomialFeatures(degree=2)\n",
    "x_poly = poly.fit_transform(X_train)\n",
    "poly.fit(X_train, y_train)\n",
    "\n",
    "lin_reg = LinearRegression()\n",
    "lin_reg.fit(x_poly, y_train)"
   ],
   "metadata": {
    "collapsed": false,
    "pycharm": {
     "name": "#%%\n"
    }
   }
  },
  {
   "cell_type": "code",
   "execution_count": 92,
   "outputs": [
    {
     "data": {
      "text/plain": "<Figure size 432x288 with 1 Axes>",
      "image/png": "[encoded data removed]"
     },
     "metadata": {
      "needs_background": "light"
     },
     "output_type": "display_data"
    }
   ],
   "source": [
    "plt.scatter(X_test, y_test, color='red')\n",
    "# plt.plot(X_test, y_test, color='red')\n",
    "plt.title('Linear Regression')\n",
    "plt.xlabel('Distance (cm)')\n",
    "plt.ylabel('RSSI')\n",
    "plt.show()"
   ],
   "metadata": {
    "collapsed": false,
    "pycharm": {
     "name": "#%%\n"
    }
   }
  },
  {
   "cell_type": "code",
   "execution_count": 93,
   "outputs": [
    {
     "name": "stdout",
     "output_type": "stream",
     "text": [
      "0.8308334119796371\n"
     ]
    },
    {
     "data": {
      "text/plain": "<Figure size 432x288 with 1 Axes>",
      "image/png": "[encoded data removed]"
     },
     "metadata": {
      "needs_background": "light"
     },
     "output_type": "display_data"
    }
   ],
   "source": [
    "y_pred = lin_reg.predict(poly.fit_transform(X_test))\n",
    "r2 = r2_score(y_test, y_pred)\n",
    "print(r2)\n",
    "\n",
    "# Visualising the Polynomial Regression results\n",
    "plt.scatter(X_test, y_pred, color = 'red')\n",
    "# plt.plot(X_test, y_pred, color = 'red')\n",
    "plt.title('Polynomial Regression')\n",
    "plt.xlabel('Distance (cm)')\n",
    "plt.ylabel('RSSI')\n",
    "\n",
    "plt.show()"
   ],
   "metadata": {
    "collapsed": false,
    "pycharm": {
     "name": "#%%\n"
    }
   }
  },
  {
   "cell_type": "code",
   "execution_count": 94,
   "outputs": [
    {
     "name": "stdout",
     "output_type": "stream",
     "text": [
      "[0.69615203 0.69010809 0.70708775 0.66388529 0.7190813  0.74740022\n",
      " 0.69594861 0.72759384 0.66252747 0.67272154]\n"
     ]
    }
   ],
   "source": [
    "from sklearn.model_selection import cross_val_score\n",
    "\n",
    "scores = cross_val_score(lin_reg, X, y, cv=10, scoring='r2')\n",
    "print(scores)"
   ],
   "metadata": {
    "collapsed": false,
    "pycharm": {
     "name": "#%%\n"
    }
   }
  },
  {
   "cell_type": "code",
   "execution_count": 95,
   "outputs": [
    {
     "name": "stdout",
     "output_type": "stream",
     "text": [
      "Means Absolute Error\n",
      "24.358937350852344\n",
      "Means Square Error\n",
      "1190.1507637612924\n",
      "All R2 Scores\n",
      "[0.69615203 0.69010809 0.70708775 0.66388529 0.7190813  0.74740022\n",
      " 0.69594861 0.72759384 0.66252747 0.67272154]\n",
      "Mean R2 Score\n",
      "0.6982506129408964\n"
     ]
    }
   ],
   "source": [
    "print(\"Means Absolute Error\")\n",
    "print(metrics.mean_absolute_error(y_test, y_pred))\n",
    "print(\"Means Square Error\")\n",
    "print(metrics.mean_squared_error(y_test, y_pred))\n",
    "print(\"All R2 Scores\")\n",
    "print(scores)\n",
    "print(\"Mean R2 Score\")\n",
    "print(scores.mean())"
   ],
   "metadata": {
    "collapsed": false,
    "pycharm": {
     "name": "#%%\n"
    }
   }
  }
 ],
 "metadata": {
  "kernelspec": {
   "display_name": "Python 3",
   "language": "python",
   "name": "python3"
  },
  "language_info": {
   "codemirror_mode": {
    "name": "ipython",
    "version": 2
   },
   "file_extension": ".py",
   "mimetype": "text/x-python",
   "name": "python",
   "nbconvert_exporter": "python",
   "pygments_lexer": "ipython2",
   "version": "2.7.6"
  }
 },
 "nbformat": 4,
 "nbformat_minor": 0
}